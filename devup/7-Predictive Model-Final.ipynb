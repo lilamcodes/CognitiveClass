{
 "cells": [
  {
   "cell_type": "code",
   "execution_count": 1,
   "metadata": {
    "collapsed": false
   },
   "outputs": [],
   "source": [
    "#import pandas and numpy for data structures and operations needed to manipulate numerical tables and time series.\n",
    "import pandas as pd\n",
    "import numpy as np\n",
    "\n",
    "\n",
    "#import matplotlib and seaborn for visualization\n",
    "import matplotlib.pyplot as plt\n",
    "import seaborn as sns\n",
    "%matplotlib inline\n",
    "\n",
    "#import sklearn for building models \n",
    "from sklearn import linear_model\n",
    "\n",
    "\n",
    "#Other packages from sklearn that may help my sample, test accuracy, etc\n",
    "from sklearn.metrics import mean_squared_error, r2_score\n",
    "from sklearn.model_selection import train_test_split\n",
    "from sklearn.model_selection import cross_val_score\n",
    "from sklearn.preprocessing import MinMaxScaler\n",
    "from sklearn.preprocessing import minmax_scale\n",
    "from sklearn.preprocessing import MaxAbsScaler\n",
    "from sklearn.preprocessing import RobustScaler\n",
    "from sklearn.preprocessing import Normalizer\n",
    "from sklearn.preprocessing.data import QuantileTransformer\n",
    "from sklearn.preprocessing import StandardScaler\n",
    "\n",
    "\n",
    "#may need datetime again, so importing as well\n",
    "import datetime as dt"
   ]
  },
  {
   "cell_type": "code",
   "execution_count": 2,
   "metadata": {
    "collapsed": false
   },
   "outputs": [
    {
     "data": {
      "text/plain": [
       "'C:\\\\Users\\\\IBM_ADMIN\\\\Desktop\\\\DevUP\\\\capstone\\\\csv'"
      ]
     },
     "execution_count": 2,
     "metadata": {},
     "output_type": "execute_result"
    }
   ],
   "source": [
    "#check working directory\n",
    "import os\n",
    "os.getcwd()\n"
   ]
  },
  {
   "cell_type": "code",
   "execution_count": 3,
   "metadata": {
    "collapsed": false
   },
   "outputs": [],
   "source": [
    "df = pd.read_csv('mergedf.csv')"
   ]
  },
  {
   "cell_type": "code",
   "execution_count": 4,
   "metadata": {
    "collapsed": false,
    "scrolled": true
   },
   "outputs": [
    {
     "data": {
      "text/plain": [
       "['Unnamed: 0',\n",
       " 'tripduration',\n",
       " 'starttime',\n",
       " 'stoptime',\n",
       " 'startstationid',\n",
       " 'startstationname',\n",
       " 'startstationlatitude',\n",
       " 'startstationlongitude',\n",
       " 'endstationid',\n",
       " 'endstationname',\n",
       " 'endstationlatitude',\n",
       " 'endstationlongitude',\n",
       " 'bikeid',\n",
       " 'usertype',\n",
       " 'birthyear',\n",
       " 'gender',\n",
       " 'age',\n",
       " 'distance',\n",
       " 'date',\n",
       " 'gender_cat',\n",
       " 'weekday',\n",
       " 'month',\n",
       " 'speed',\n",
       " 'temperature_fahrenheit',\n",
       " 'date_weather2']"
      ]
     },
     "execution_count": 4,
     "metadata": {},
     "output_type": "execute_result"
    }
   ],
   "source": [
    "list(df.columns.values)"
   ]
  },
  {
   "cell_type": "code",
   "execution_count": 5,
   "metadata": {
    "collapsed": false
   },
   "outputs": [],
   "source": [
    "del df['Unnamed: 0']"
   ]
  },
  {
   "cell_type": "code",
   "execution_count": 6,
   "metadata": {
    "collapsed": false
   },
   "outputs": [],
   "source": [
    "\n",
    "df=pd.DataFrame(df)\n"
   ]
  },
  {
   "cell_type": "code",
   "execution_count": 7,
   "metadata": {
    "collapsed": false
   },
   "outputs": [
    {
     "data": {
      "text/html": [
       "<div>\n",
       "<style scoped>\n",
       "    .dataframe tbody tr th:only-of-type {\n",
       "        vertical-align: middle;\n",
       "    }\n",
       "\n",
       "    .dataframe tbody tr th {\n",
       "        vertical-align: top;\n",
       "    }\n",
       "\n",
       "    .dataframe thead th {\n",
       "        text-align: right;\n",
       "    }\n",
       "</style>\n",
       "<table border=\"1\" class=\"dataframe\">\n",
       "  <thead>\n",
       "    <tr style=\"text-align: right;\">\n",
       "      <th></th>\n",
       "      <th>tripduration</th>\n",
       "      <th>starttime</th>\n",
       "      <th>stoptime</th>\n",
       "      <th>startstationid</th>\n",
       "      <th>startstationname</th>\n",
       "      <th>startstationlatitude</th>\n",
       "      <th>startstationlongitude</th>\n",
       "      <th>endstationid</th>\n",
       "      <th>endstationname</th>\n",
       "      <th>endstationlatitude</th>\n",
       "      <th>...</th>\n",
       "      <th>gender</th>\n",
       "      <th>age</th>\n",
       "      <th>distance</th>\n",
       "      <th>date</th>\n",
       "      <th>gender_cat</th>\n",
       "      <th>weekday</th>\n",
       "      <th>month</th>\n",
       "      <th>speed</th>\n",
       "      <th>temperature_fahrenheit</th>\n",
       "      <th>date_weather2</th>\n",
       "    </tr>\n",
       "  </thead>\n",
       "  <tbody>\n",
       "    <tr>\n",
       "      <th>0</th>\n",
       "      <td>680.0</td>\n",
       "      <td>2017-01-01 00:00:21</td>\n",
       "      <td>2017-01-01 00:11:41</td>\n",
       "      <td>3226.0</td>\n",
       "      <td>W 82 St &amp; Central Park West</td>\n",
       "      <td>40.782750</td>\n",
       "      <td>-73.971370</td>\n",
       "      <td>3165.0</td>\n",
       "      <td>Central Park West &amp; W 72 St</td>\n",
       "      <td>40.775794</td>\n",
       "      <td>...</td>\n",
       "      <td>2.0</td>\n",
       "      <td>52.0</td>\n",
       "      <td>8.812613e+06</td>\n",
       "      <td>2017-01-01 00:00:00</td>\n",
       "      <td>female</td>\n",
       "      <td>6.0</td>\n",
       "      <td>1.0</td>\n",
       "      <td>46655011.0</td>\n",
       "      <td>44.06</td>\n",
       "      <td>2017-01-01 00:00:00</td>\n",
       "    </tr>\n",
       "    <tr>\n",
       "      <th>1</th>\n",
       "      <td>1282.0</td>\n",
       "      <td>2017-01-01 00:00:45</td>\n",
       "      <td>2017-01-01 00:22:08</td>\n",
       "      <td>3263.0</td>\n",
       "      <td>Cooper Square &amp; E 7 St</td>\n",
       "      <td>40.729236</td>\n",
       "      <td>-73.990868</td>\n",
       "      <td>498.0</td>\n",
       "      <td>Broadway &amp; W 32 St</td>\n",
       "      <td>40.748549</td>\n",
       "      <td>...</td>\n",
       "      <td>2.0</td>\n",
       "      <td>30.0</td>\n",
       "      <td>8.816569e+06</td>\n",
       "      <td>2017-01-01 00:00:00</td>\n",
       "      <td>female</td>\n",
       "      <td>6.0</td>\n",
       "      <td>1.0</td>\n",
       "      <td>24757917.0</td>\n",
       "      <td>44.06</td>\n",
       "      <td>2017-01-01 00:00:00</td>\n",
       "    </tr>\n",
       "    <tr>\n",
       "      <th>2</th>\n",
       "      <td>666.0</td>\n",
       "      <td>2017-01-01 00:01:51</td>\n",
       "      <td>2017-01-01 00:12:57</td>\n",
       "      <td>3163.0</td>\n",
       "      <td>Central Park West &amp; W 68 St</td>\n",
       "      <td>40.773407</td>\n",
       "      <td>-73.977825</td>\n",
       "      <td>3163.0</td>\n",
       "      <td>Central Park West &amp; W 68 St</td>\n",
       "      <td>40.773407</td>\n",
       "      <td>...</td>\n",
       "      <td>1.0</td>\n",
       "      <td>17.0</td>\n",
       "      <td>8.813090e+06</td>\n",
       "      <td>2017-01-01 00:00:00</td>\n",
       "      <td>male</td>\n",
       "      <td>6.0</td>\n",
       "      <td>1.0</td>\n",
       "      <td>47638322.0</td>\n",
       "      <td>44.06</td>\n",
       "      <td>2017-01-01 00:00:00</td>\n",
       "    </tr>\n",
       "  </tbody>\n",
       "</table>\n",
       "<p>3 rows × 24 columns</p>\n",
       "</div>"
      ],
      "text/plain": [
       "   tripduration            starttime             stoptime  startstationid  \\\n",
       "0         680.0  2017-01-01 00:00:21  2017-01-01 00:11:41          3226.0   \n",
       "1        1282.0  2017-01-01 00:00:45  2017-01-01 00:22:08          3263.0   \n",
       "2         666.0  2017-01-01 00:01:51  2017-01-01 00:12:57          3163.0   \n",
       "\n",
       "              startstationname  startstationlatitude  startstationlongitude  \\\n",
       "0  W 82 St & Central Park West             40.782750             -73.971370   \n",
       "1       Cooper Square & E 7 St             40.729236             -73.990868   \n",
       "2  Central Park West & W 68 St             40.773407             -73.977825   \n",
       "\n",
       "   endstationid               endstationname  endstationlatitude  \\\n",
       "0        3165.0  Central Park West & W 72 St           40.775794   \n",
       "1         498.0           Broadway & W 32 St           40.748549   \n",
       "2        3163.0  Central Park West & W 68 St           40.773407   \n",
       "\n",
       "          ...           gender   age      distance                 date  \\\n",
       "0         ...              2.0  52.0  8.812613e+06  2017-01-01 00:00:00   \n",
       "1         ...              2.0  30.0  8.816569e+06  2017-01-01 00:00:00   \n",
       "2         ...              1.0  17.0  8.813090e+06  2017-01-01 00:00:00   \n",
       "\n",
       "   gender_cat  weekday  month       speed temperature_fahrenheit  \\\n",
       "0      female      6.0    1.0  46655011.0                  44.06   \n",
       "1      female      6.0    1.0  24757917.0                  44.06   \n",
       "2        male      6.0    1.0  47638322.0                  44.06   \n",
       "\n",
       "         date_weather2  \n",
       "0  2017-01-01 00:00:00  \n",
       "1  2017-01-01 00:00:00  \n",
       "2  2017-01-01 00:00:00  \n",
       "\n",
       "[3 rows x 24 columns]"
      ]
     },
     "execution_count": 7,
     "metadata": {},
     "output_type": "execute_result"
    }
   ],
   "source": [
    "df.head(3)"
   ]
  },
  {
   "cell_type": "markdown",
   "metadata": {
    "collapsed": false
   },
   "source": [
    "## Final) Building Predictive Model"
   ]
  },
  {
   "cell_type": "code",
   "execution_count": 8,
   "metadata": {
    "collapsed": false
   },
   "outputs": [
    {
     "data": {
      "text/plain": [
       "tripduration              float64\n",
       "starttime                  object\n",
       "stoptime                   object\n",
       "startstationid            float64\n",
       "startstationname           object\n",
       "startstationlatitude      float64\n",
       "startstationlongitude     float64\n",
       "endstationid              float64\n",
       "endstationname             object\n",
       "endstationlatitude        float64\n",
       "endstationlongitude       float64\n",
       "bikeid                    float64\n",
       "usertype                   object\n",
       "birthyear                 float64\n",
       "gender                    float64\n",
       "age                       float64\n",
       "distance                  float64\n",
       "date                       object\n",
       "gender_cat                 object\n",
       "weekday                   float64\n",
       "month                     float64\n",
       "speed                     float64\n",
       "temperature_fahrenheit    float64\n",
       "date_weather2              object\n",
       "dtype: object"
      ]
     },
     "execution_count": 8,
     "metadata": {},
     "output_type": "execute_result"
    }
   ],
   "source": [
    "df.dtypes"
   ]
  },
  {
   "cell_type": "code",
   "execution_count": 9,
   "metadata": {
    "collapsed": false
   },
   "outputs": [
    {
     "data": {
      "text/html": [
       "<div>\n",
       "<style scoped>\n",
       "    .dataframe tbody tr th:only-of-type {\n",
       "        vertical-align: middle;\n",
       "    }\n",
       "\n",
       "    .dataframe tbody tr th {\n",
       "        vertical-align: top;\n",
       "    }\n",
       "\n",
       "    .dataframe thead th {\n",
       "        text-align: right;\n",
       "    }\n",
       "</style>\n",
       "<table border=\"1\" class=\"dataframe\">\n",
       "  <thead>\n",
       "    <tr style=\"text-align: right;\">\n",
       "      <th></th>\n",
       "      <th>tripduration</th>\n",
       "      <th>starttime</th>\n",
       "      <th>stoptime</th>\n",
       "      <th>startstationid</th>\n",
       "      <th>startstationname</th>\n",
       "      <th>startstationlatitude</th>\n",
       "      <th>startstationlongitude</th>\n",
       "      <th>endstationid</th>\n",
       "      <th>endstationname</th>\n",
       "      <th>endstationlatitude</th>\n",
       "      <th>...</th>\n",
       "      <th>gender</th>\n",
       "      <th>age</th>\n",
       "      <th>distance</th>\n",
       "      <th>date</th>\n",
       "      <th>gender_cat</th>\n",
       "      <th>weekday</th>\n",
       "      <th>month</th>\n",
       "      <th>speed</th>\n",
       "      <th>temperature_fahrenheit</th>\n",
       "      <th>date_weather2</th>\n",
       "    </tr>\n",
       "  </thead>\n",
       "  <tbody>\n",
       "    <tr>\n",
       "      <th>8513138</th>\n",
       "      <td>941.0</td>\n",
       "      <td>2017-08-28 12:32:50</td>\n",
       "      <td>2017-08-28 12:48:32</td>\n",
       "      <td>382.0</td>\n",
       "      <td>University Pl &amp; E 14 St</td>\n",
       "      <td>40.734927</td>\n",
       "      <td>-73.992005</td>\n",
       "      <td>517.0</td>\n",
       "      <td>Pershing Square South</td>\n",
       "      <td>40.751581</td>\n",
       "      <td>...</td>\n",
       "      <td>1.0</td>\n",
       "      <td>43.0</td>\n",
       "      <td>8.815612e+06</td>\n",
       "      <td>2017-08-28 00:00:00</td>\n",
       "      <td>male</td>\n",
       "      <td>0.0</td>\n",
       "      <td>8.0</td>\n",
       "      <td>33726041.0</td>\n",
       "      <td>68.00</td>\n",
       "      <td>2017-08-28 00:00:00</td>\n",
       "    </tr>\n",
       "    <tr>\n",
       "      <th>3819560</th>\n",
       "      <td>673.0</td>\n",
       "      <td>2017-05-15 19:45:42</td>\n",
       "      <td>2017-05-15 19:56:55</td>\n",
       "      <td>3140.0</td>\n",
       "      <td>1 Ave &amp; E 78 St</td>\n",
       "      <td>40.771404</td>\n",
       "      <td>-73.953517</td>\n",
       "      <td>3290.0</td>\n",
       "      <td>E 89 St &amp; York Ave</td>\n",
       "      <td>40.777945</td>\n",
       "      <td>...</td>\n",
       "      <td>1.0</td>\n",
       "      <td>34.0</td>\n",
       "      <td>8.810896e+06</td>\n",
       "      <td>2017-05-15 00:00:00</td>\n",
       "      <td>male</td>\n",
       "      <td>0.0</td>\n",
       "      <td>5.0</td>\n",
       "      <td>47131095.0</td>\n",
       "      <td>60.53</td>\n",
       "      <td>2017-05-15 00:00:00</td>\n",
       "    </tr>\n",
       "    <tr>\n",
       "      <th>8013391</th>\n",
       "      <td>122.0</td>\n",
       "      <td>2017-08-18 07:42:35</td>\n",
       "      <td>2017-08-18 07:44:37</td>\n",
       "      <td>3112.0</td>\n",
       "      <td>Milton St &amp; Franklin St</td>\n",
       "      <td>40.729060</td>\n",
       "      <td>-73.957790</td>\n",
       "      <td>3113.0</td>\n",
       "      <td>Greenpoint Ave &amp; Manhattan Ave</td>\n",
       "      <td>40.730260</td>\n",
       "      <td>...</td>\n",
       "      <td>1.0</td>\n",
       "      <td>47.0</td>\n",
       "      <td>8.816008e+06</td>\n",
       "      <td>2017-08-18 00:00:00</td>\n",
       "      <td>male</td>\n",
       "      <td>4.0</td>\n",
       "      <td>8.0</td>\n",
       "      <td>260144504.0</td>\n",
       "      <td>75.92</td>\n",
       "      <td>2017-08-18 00:00:00</td>\n",
       "    </tr>\n",
       "    <tr>\n",
       "      <th>7767379</th>\n",
       "      <td>625.0</td>\n",
       "      <td>2017-08-13 15:30:42</td>\n",
       "      <td>2017-08-13 15:41:08</td>\n",
       "      <td>412.0</td>\n",
       "      <td>Forsyth St &amp; Canal St</td>\n",
       "      <td>40.715816</td>\n",
       "      <td>-73.994224</td>\n",
       "      <td>415.0</td>\n",
       "      <td>Pearl St &amp; Hanover Square</td>\n",
       "      <td>40.704718</td>\n",
       "      <td>...</td>\n",
       "      <td>1.0</td>\n",
       "      <td>25.0</td>\n",
       "      <td>8.821570e+06</td>\n",
       "      <td>2017-08-13 00:00:00</td>\n",
       "      <td>male</td>\n",
       "      <td>6.0</td>\n",
       "      <td>8.0</td>\n",
       "      <td>50812242.0</td>\n",
       "      <td>73.94</td>\n",
       "      <td>2017-08-13 00:00:00</td>\n",
       "    </tr>\n",
       "    <tr>\n",
       "      <th>1524527</th>\n",
       "      <td>297.0</td>\n",
       "      <td>2017-03-05 21:05:52</td>\n",
       "      <td>2017-03-05 21:10:50</td>\n",
       "      <td>467.0</td>\n",
       "      <td>Dean St &amp; 4 Ave</td>\n",
       "      <td>40.683125</td>\n",
       "      <td>-73.978951</td>\n",
       "      <td>3368.0</td>\n",
       "      <td>5 Ave &amp; 3 St</td>\n",
       "      <td>40.672816</td>\n",
       "      <td>...</td>\n",
       "      <td>1.0</td>\n",
       "      <td>37.0</td>\n",
       "      <td>8.823240e+06</td>\n",
       "      <td>2017-03-05 00:00:00</td>\n",
       "      <td>male</td>\n",
       "      <td>6.0</td>\n",
       "      <td>3.0</td>\n",
       "      <td>106948360.0</td>\n",
       "      <td>28.94</td>\n",
       "      <td>2017-03-05 00:00:00</td>\n",
       "    </tr>\n",
       "  </tbody>\n",
       "</table>\n",
       "<p>5 rows × 24 columns</p>\n",
       "</div>"
      ],
      "text/plain": [
       "         tripduration            starttime             stoptime  \\\n",
       "8513138         941.0  2017-08-28 12:32:50  2017-08-28 12:48:32   \n",
       "3819560         673.0  2017-05-15 19:45:42  2017-05-15 19:56:55   \n",
       "8013391         122.0  2017-08-18 07:42:35  2017-08-18 07:44:37   \n",
       "7767379         625.0  2017-08-13 15:30:42  2017-08-13 15:41:08   \n",
       "1524527         297.0  2017-03-05 21:05:52  2017-03-05 21:10:50   \n",
       "\n",
       "         startstationid         startstationname  startstationlatitude  \\\n",
       "8513138           382.0  University Pl & E 14 St             40.734927   \n",
       "3819560          3140.0          1 Ave & E 78 St             40.771404   \n",
       "8013391          3112.0  Milton St & Franklin St             40.729060   \n",
       "7767379           412.0    Forsyth St & Canal St             40.715816   \n",
       "1524527           467.0          Dean St & 4 Ave             40.683125   \n",
       "\n",
       "         startstationlongitude  endstationid                  endstationname  \\\n",
       "8513138             -73.992005         517.0           Pershing Square South   \n",
       "3819560             -73.953517        3290.0              E 89 St & York Ave   \n",
       "8013391             -73.957790        3113.0  Greenpoint Ave & Manhattan Ave   \n",
       "7767379             -73.994224         415.0       Pearl St & Hanover Square   \n",
       "1524527             -73.978951        3368.0                    5 Ave & 3 St   \n",
       "\n",
       "         endstationlatitude         ...           gender   age      distance  \\\n",
       "8513138           40.751581         ...              1.0  43.0  8.815612e+06   \n",
       "3819560           40.777945         ...              1.0  34.0  8.810896e+06   \n",
       "8013391           40.730260         ...              1.0  47.0  8.816008e+06   \n",
       "7767379           40.704718         ...              1.0  25.0  8.821570e+06   \n",
       "1524527           40.672816         ...              1.0  37.0  8.823240e+06   \n",
       "\n",
       "                        date  gender_cat  weekday  month        speed  \\\n",
       "8513138  2017-08-28 00:00:00        male      0.0    8.0   33726041.0   \n",
       "3819560  2017-05-15 00:00:00        male      0.0    5.0   47131095.0   \n",
       "8013391  2017-08-18 00:00:00        male      4.0    8.0  260144504.0   \n",
       "7767379  2017-08-13 00:00:00        male      6.0    8.0   50812242.0   \n",
       "1524527  2017-03-05 00:00:00        male      6.0    3.0  106948360.0   \n",
       "\n",
       "        temperature_fahrenheit        date_weather2  \n",
       "8513138                  68.00  2017-08-28 00:00:00  \n",
       "3819560                  60.53  2017-05-15 00:00:00  \n",
       "8013391                  75.92  2017-08-18 00:00:00  \n",
       "7767379                  73.94  2017-08-13 00:00:00  \n",
       "1524527                  28.94  2017-03-05 00:00:00  \n",
       "\n",
       "[5 rows x 24 columns]"
      ]
     },
     "execution_count": 9,
     "metadata": {},
     "output_type": "execute_result"
    }
   ],
   "source": [
    "#Random row selection for sample\n",
    "sample_df = df.sample(frac = 0.4, random_state = 1)\n",
    "\n",
    "sample_df.head()"
   ]
  },
  {
   "cell_type": "code",
   "execution_count": 10,
   "metadata": {
    "collapsed": true
   },
   "outputs": [],
   "source": [
    "#drop columns with data that already represented in other column or do not impact trip duration\n",
    "del sample_df[\"stoptime\"]\n",
    "del sample_df[\"startstationid\"]\n",
    "del sample_df[\"startstationlatitude\"]\n",
    "del sample_df[\"startstationlongitude\"]\n",
    "del sample_df[\"endstationid\"]\n",
    "del sample_df[\"endstationlatitude\"]\n",
    "del sample_df[\"endstationlongitude\"]\n",
    "del sample_df[\"bikeid\"]\n",
    "del sample_df[\"date_weather2\"]\n",
    "del sample_df[\"gender\"]\n",
    "del sample_df[\"startstationname\"]\n",
    "del sample_df[\"endstationname\"]\n",
    "del sample_df[\"birthyear\"]\n",
    "del sample_df[\"starttime\"]\n",
    "#Had to go back and forth, deleting variables as I deem uncessary estimating time to make processing data possible"
   ]
  },
  {
   "cell_type": "code",
   "execution_count": 11,
   "metadata": {
    "collapsed": false
   },
   "outputs": [],
   "source": [
    "#I need to convert some columnes to strings to use as categorical variables\n",
    "\n",
    "df['weekday']=df['weekday'].astype(str)\n",
    "df['month']=df['month'].astype(str)\n"
   ]
  },
  {
   "cell_type": "code",
   "execution_count": 12,
   "metadata": {
    "collapsed": false
   },
   "outputs": [
    {
     "data": {
      "text/plain": [
       "tripduration              float64\n",
       "usertype                   object\n",
       "age                       float64\n",
       "distance                  float64\n",
       "date                       object\n",
       "gender_cat                 object\n",
       "weekday                   float64\n",
       "month                     float64\n",
       "speed                     float64\n",
       "temperature_fahrenheit    float64\n",
       "dtype: object"
      ]
     },
     "execution_count": 12,
     "metadata": {},
     "output_type": "execute_result"
    }
   ],
   "source": [
    "sample_df.dtypes"
   ]
  },
  {
   "cell_type": "code",
   "execution_count": 13,
   "metadata": {
    "collapsed": false
   },
   "outputs": [
    {
     "data": {
      "text/plain": [
       "(5613412, 6)"
      ]
     },
     "execution_count": 13,
     "metadata": {},
     "output_type": "execute_result"
    }
   ],
   "source": [
    "#Dummified  variables from sample_df for missing values\n",
    "dummies=pd.get_dummies(sample_df[['usertype', 'gender_cat', 'month', 'weekday' ]])\n",
    "dummies.shape"
   ]
  },
  {
   "cell_type": "code",
   "execution_count": null,
   "metadata": {
    "collapsed": true
   },
   "outputs": [],
   "source": []
  },
  {
   "cell_type": "code",
   "execution_count": 14,
   "metadata": {
    "collapsed": false
   },
   "outputs": [
    {
     "data": {
      "text/html": [
       "<div>\n",
       "<style scoped>\n",
       "    .dataframe tbody tr th:only-of-type {\n",
       "        vertical-align: middle;\n",
       "    }\n",
       "\n",
       "    .dataframe tbody tr th {\n",
       "        vertical-align: top;\n",
       "    }\n",
       "\n",
       "    .dataframe thead th {\n",
       "        text-align: right;\n",
       "    }\n",
       "</style>\n",
       "<table border=\"1\" class=\"dataframe\">\n",
       "  <thead>\n",
       "    <tr style=\"text-align: right;\">\n",
       "      <th></th>\n",
       "      <th>tripduration</th>\n",
       "      <th>usertype</th>\n",
       "      <th>age</th>\n",
       "      <th>distance</th>\n",
       "      <th>date</th>\n",
       "      <th>gender_cat</th>\n",
       "      <th>weekday</th>\n",
       "      <th>month</th>\n",
       "      <th>speed</th>\n",
       "      <th>temperature_fahrenheit</th>\n",
       "      <th>month</th>\n",
       "      <th>weekday</th>\n",
       "      <th>usertype_Customer</th>\n",
       "      <th>usertype_Subscriber</th>\n",
       "      <th>gender_cat_female</th>\n",
       "      <th>gender_cat_male</th>\n",
       "    </tr>\n",
       "  </thead>\n",
       "  <tbody>\n",
       "    <tr>\n",
       "      <th>8513138</th>\n",
       "      <td>941.0</td>\n",
       "      <td>Subscriber</td>\n",
       "      <td>43.0</td>\n",
       "      <td>8.815612e+06</td>\n",
       "      <td>2017-08-28 00:00:00</td>\n",
       "      <td>male</td>\n",
       "      <td>0.0</td>\n",
       "      <td>8.0</td>\n",
       "      <td>33726041.0</td>\n",
       "      <td>68.00</td>\n",
       "      <td>8.0</td>\n",
       "      <td>0.0</td>\n",
       "      <td>0</td>\n",
       "      <td>1</td>\n",
       "      <td>0</td>\n",
       "      <td>1</td>\n",
       "    </tr>\n",
       "    <tr>\n",
       "      <th>3819560</th>\n",
       "      <td>673.0</td>\n",
       "      <td>Subscriber</td>\n",
       "      <td>34.0</td>\n",
       "      <td>8.810896e+06</td>\n",
       "      <td>2017-05-15 00:00:00</td>\n",
       "      <td>male</td>\n",
       "      <td>0.0</td>\n",
       "      <td>5.0</td>\n",
       "      <td>47131095.0</td>\n",
       "      <td>60.53</td>\n",
       "      <td>5.0</td>\n",
       "      <td>0.0</td>\n",
       "      <td>0</td>\n",
       "      <td>1</td>\n",
       "      <td>0</td>\n",
       "      <td>1</td>\n",
       "    </tr>\n",
       "    <tr>\n",
       "      <th>8013391</th>\n",
       "      <td>122.0</td>\n",
       "      <td>Subscriber</td>\n",
       "      <td>47.0</td>\n",
       "      <td>8.816008e+06</td>\n",
       "      <td>2017-08-18 00:00:00</td>\n",
       "      <td>male</td>\n",
       "      <td>4.0</td>\n",
       "      <td>8.0</td>\n",
       "      <td>260144504.0</td>\n",
       "      <td>75.92</td>\n",
       "      <td>8.0</td>\n",
       "      <td>4.0</td>\n",
       "      <td>0</td>\n",
       "      <td>1</td>\n",
       "      <td>0</td>\n",
       "      <td>1</td>\n",
       "    </tr>\n",
       "    <tr>\n",
       "      <th>7767379</th>\n",
       "      <td>625.0</td>\n",
       "      <td>Subscriber</td>\n",
       "      <td>25.0</td>\n",
       "      <td>8.821570e+06</td>\n",
       "      <td>2017-08-13 00:00:00</td>\n",
       "      <td>male</td>\n",
       "      <td>6.0</td>\n",
       "      <td>8.0</td>\n",
       "      <td>50812242.0</td>\n",
       "      <td>73.94</td>\n",
       "      <td>8.0</td>\n",
       "      <td>6.0</td>\n",
       "      <td>0</td>\n",
       "      <td>1</td>\n",
       "      <td>0</td>\n",
       "      <td>1</td>\n",
       "    </tr>\n",
       "    <tr>\n",
       "      <th>1524527</th>\n",
       "      <td>297.0</td>\n",
       "      <td>Subscriber</td>\n",
       "      <td>37.0</td>\n",
       "      <td>8.823240e+06</td>\n",
       "      <td>2017-03-05 00:00:00</td>\n",
       "      <td>male</td>\n",
       "      <td>6.0</td>\n",
       "      <td>3.0</td>\n",
       "      <td>106948360.0</td>\n",
       "      <td>28.94</td>\n",
       "      <td>3.0</td>\n",
       "      <td>6.0</td>\n",
       "      <td>0</td>\n",
       "      <td>1</td>\n",
       "      <td>0</td>\n",
       "      <td>1</td>\n",
       "    </tr>\n",
       "  </tbody>\n",
       "</table>\n",
       "</div>"
      ],
      "text/plain": [
       "         tripduration    usertype   age      distance                 date  \\\n",
       "8513138         941.0  Subscriber  43.0  8.815612e+06  2017-08-28 00:00:00   \n",
       "3819560         673.0  Subscriber  34.0  8.810896e+06  2017-05-15 00:00:00   \n",
       "8013391         122.0  Subscriber  47.0  8.816008e+06  2017-08-18 00:00:00   \n",
       "7767379         625.0  Subscriber  25.0  8.821570e+06  2017-08-13 00:00:00   \n",
       "1524527         297.0  Subscriber  37.0  8.823240e+06  2017-03-05 00:00:00   \n",
       "\n",
       "        gender_cat  weekday  month        speed  temperature_fahrenheit  \\\n",
       "8513138       male      0.0    8.0   33726041.0                   68.00   \n",
       "3819560       male      0.0    5.0   47131095.0                   60.53   \n",
       "8013391       male      4.0    8.0  260144504.0                   75.92   \n",
       "7767379       male      6.0    8.0   50812242.0                   73.94   \n",
       "1524527       male      6.0    3.0  106948360.0                   28.94   \n",
       "\n",
       "         month  weekday  usertype_Customer  usertype_Subscriber  \\\n",
       "8513138    8.0      0.0                  0                    1   \n",
       "3819560    5.0      0.0                  0                    1   \n",
       "8013391    8.0      4.0                  0                    1   \n",
       "7767379    8.0      6.0                  0                    1   \n",
       "1524527    3.0      6.0                  0                    1   \n",
       "\n",
       "         gender_cat_female  gender_cat_male  \n",
       "8513138                  0                1  \n",
       "3819560                  0                1  \n",
       "8013391                  0                1  \n",
       "7767379                  0                1  \n",
       "1524527                  0                1  "
      ]
     },
     "execution_count": 14,
     "metadata": {},
     "output_type": "execute_result"
    }
   ],
   "source": [
    "#Add dummies to dataframe\n",
    "dfcombined=pd.concat([sample_df,dummies],axis=1)\n",
    "dfcombined.head()"
   ]
  },
  {
   "cell_type": "code",
   "execution_count": 15,
   "metadata": {
    "collapsed": false
   },
   "outputs": [],
   "source": [
    "#Normalization is done to continuous variables to set comparing variables at a 'neutral' or 'standard' scale\n",
    "#select all variables with large range\n",
    "sample_df['age']=StandardScaler().fit_transform(sample_df[['age']])\n",
    "sample_df['distance']=StandardScaler().fit_transform(sample_df[['distance']])\n",
    "sample_df['temperature_fahrenheit']=StandardScaler().fit_transform(sample_df[['temperature_fahrenheit']])"
   ]
  },
  {
   "cell_type": "code",
   "execution_count": 16,
   "metadata": {
    "collapsed": false
   },
   "outputs": [],
   "source": [
    "#Create Y(target) list.  We are trying to predict trip duration, so that is our target.\n",
    "y=sample_df['tripduration']"
   ]
  },
  {
   "cell_type": "code",
   "execution_count": 17,
   "metadata": {
    "collapsed": false
   },
   "outputs": [],
   "source": [
    "#from correlation matrix,set significant variables as x\n",
    "\n",
    "factors=dfcombined[[ 'distance','age','weekday','month','speed','temperature_fahrenheit','usertype_Customer','gender_cat_female', \n",
    "                    'usertype_Subscriber']]"
   ]
  },
  {
   "cell_type": "code",
   "execution_count": null,
   "metadata": {
    "collapsed": true
   },
   "outputs": [],
   "source": [
    "#Time to split and set training and testing data in groups\n",
    "x_train,x_test,y_train,y_test=train_test_split(factors,y,test_size=.3, random_state=1)"
   ]
  },
  {
   "cell_type": "code",
   "execution_count": null,
   "metadata": {
    "collapsed": false
   },
   "outputs": [],
   "source": [
    "#Creating the Linear Regression\n",
    "\n",
    "LinReg=linear_model.LinearRegression()\n",
    "LinReg.fit(x_train, y_train)\n",
    "\n",
    "\n"
   ]
  },
  {
   "cell_type": "code",
   "execution_count": null,
   "metadata": {
    "collapsed": false,
    "scrolled": true
   },
   "outputs": [],
   "source": [
    "LinReg.score(x_test,y_test)"
   ]
  },
  {
   "cell_type": "code",
   "execution_count": null,
   "metadata": {
    "collapsed": false
   },
   "outputs": [],
   "source": [
    "LinReg.predict(x_test)"
   ]
  },
  {
   "cell_type": "code",
   "execution_count": null,
   "metadata": {
    "collapsed": false
   },
   "outputs": [],
   "source": [
    "LinReg.coef_"
   ]
  },
  {
   "cell_type": "code",
   "execution_count": null,
   "metadata": {
    "collapsed": false
   },
   "outputs": [],
   "source": [
    "LinReg.intercept_"
   ]
  },
  {
   "cell_type": "code",
   "execution_count": null,
   "metadata": {
    "collapsed": false
   },
   "outputs": [],
   "source": [
    "import statsmodels.api as statsmodels"
   ]
  },
  {
   "cell_type": "code",
   "execution_count": null,
   "metadata": {
    "collapsed": false
   },
   "outputs": [],
   "source": [
    "#Running stats on model.  R-squared is closer to 1, model is predicting tripduration\n",
    "r = statsmodels.OLS(y, factors).fit()\n",
    "r.summary()"
   ]
  },
  {
   "cell_type": "code",
   "execution_count": null,
   "metadata": {
    "collapsed": false
   },
   "outputs": [],
   "source": [
    "\n",
    "y_pred=LinReg.predict(x_test)"
   ]
  },
  {
   "cell_type": "code",
   "execution_count": null,
   "metadata": {
    "collapsed": true
   },
   "outputs": [],
   "source": []
  }
 ],
 "metadata": {
  "anaconda-cloud": {},
  "kernelspec": {
   "display_name": "Python [conda env:Anaconda3]",
   "language": "python",
   "name": "conda-env-Anaconda3-py"
  },
  "language_info": {
   "codemirror_mode": {
    "name": "ipython",
    "version": 3
   },
   "file_extension": ".py",
   "mimetype": "text/x-python",
   "name": "python",
   "nbconvert_exporter": "python",
   "pygments_lexer": "ipython3",
   "version": "3.5.2"
  }
 },
 "nbformat": 4,
 "nbformat_minor": 1
}
